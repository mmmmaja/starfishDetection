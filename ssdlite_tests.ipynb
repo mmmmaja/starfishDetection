{
 "cells": [
  {
   "cell_type": "code",
   "execution_count": 1,
   "metadata": {},
   "outputs": [
    {
     "name": "stdout",
     "output_type": "stream",
     "text": [
      "model:\n",
      "  _target_: starfish.model.FasterRCNNLightning\n",
      "  num_classes: 2\n",
      "  log_ap: true\n",
      "  optimizer:\n",
      "    _target_: torch.optim.SGD\n",
      "    _partial_: true\n",
      "    lr: 0.0001\n",
      "  scheduler:\n",
      "    _target_: torch.optim.lr_scheduler.StepLR\n",
      "    _partial_: true\n",
      "    step_size: 3\n",
      "    gamma: 0.1\n",
      "  compile: false\n",
      "data:\n",
      "  _target_: starfish.data.StarfishDataModule\n",
      "  data_from_bucket: false\n",
      "  batch_size: 32\n",
      "  train_val_test_split:\n",
      "  - 0.8\n",
      "  - 0.1\n",
      "  - 0.1\n",
      "  subset: 1\n",
      "  num_workers: 1\n",
      "trainer:\n",
      "  _target_: pytorch_lightning.Trainer\n",
      "  min_epochs: 1\n",
      "  max_epochs: 10\n",
      "  accelerator: cpu\n",
      "  devices: 1\n",
      "  log_every_n_steps: 1\n",
      "logger:\n",
      "  _target_: pytorch_lightning.loggers.WandbLogger\n",
      "  offline: false\n",
      "  id: null\n",
      "  anonymous: null\n",
      "  project: Starfish Detection\n",
      "  log_model: true\n",
      "  prefix: ''\n",
      "  entity: luciagordon-harvard-university\n",
      "  group: ''\n",
      "  tags:\n",
      "  - test\n",
      "  job_type: ''\n",
      "profiling: false\n",
      "\n"
     ]
    },
    {
     "ename": "NameError",
     "evalue": "name 'data' is not defined",
     "output_type": "error",
     "traceback": [
      "\u001b[0;31m---------------------------------------------------------------------------\u001b[0m",
      "\u001b[0;31mNameError\u001b[0m                                 Traceback (most recent call last)",
      "Cell \u001b[0;32mIn[1], line 26\u001b[0m\n\u001b[1;32m     22\u001b[0m cfg_train \u001b[38;5;241m=\u001b[39m compose(config_name\u001b[38;5;241m=\u001b[39m\u001b[38;5;124m'\u001b[39m\u001b[38;5;124mmain_config\u001b[39m\u001b[38;5;124m'\u001b[39m,overrides\u001b[38;5;241m=\u001b[39m[\u001b[38;5;124m'\u001b[39m\u001b[38;5;124mdata.data_from_bucket=False\u001b[39m\u001b[38;5;124m'\u001b[39m])\n\u001b[1;32m     24\u001b[0m \u001b[38;5;28mprint\u001b[39m(OmegaConf\u001b[38;5;241m.\u001b[39mto_yaml(cfg_train))\n\u001b[0;32m---> 26\u001b[0m \u001b[43mdata\u001b[49m\n",
      "\u001b[0;31mNameError\u001b[0m: name 'data' is not defined"
     ]
    }
   ],
   "source": [
    "import os\n",
    "import numpy as np\n",
    "from omegaconf import DictConfig, OmegaConf\n",
    "import hydra\n",
    "from hydra import initialize, compose\n",
    "from hydra.utils import instantiate\n",
    "from starfish.data import StarfishDataModule\n",
    "from starfish.model import FasterRCNNLightning\n",
    "\n",
    "import torch\n",
    "from pprint import pprint\n",
    "# Set the environment variable HYDRA_FULL_ERROR=1 to see the full stack trace\n",
    "os.environ['HYDRA_FULL_ERROR'] = '1'\n",
    "\n",
    "os.environ['PROJECT_ROOT'] = '/Users/moustholmes/starfishDetection'\n",
    "\n",
    "# Change the current working directory to the project root\n",
    "os.chdir('/Users/moustholmes/starfishDetection')\n",
    "\n",
    "initialize(version_base=None, config_path='configs', job_name='notebook')\n",
    "\n",
    "cfg_train = compose(config_name='main_config',overrides=['data.data_from_bucket=False'])\n",
    "\n",
    "print(OmegaConf.to_yaml(cfg_train))\n",
    "\n"
   ]
  },
  {
   "cell_type": "code",
   "execution_count": 2,
   "metadata": {},
   "outputs": [
    {
     "name": "stdout",
     "output_type": "stream",
     "text": [
      "Loading 4919 images.\n"
     ]
    }
   ],
   "source": [
    "data = instantiate(cfg_train.data)\n",
    "\n",
    "data.setup()\n",
    "train_dataloader = data.train_dataloader()\n"
   ]
  },
  {
   "cell_type": "code",
   "execution_count": 6,
   "metadata": {},
   "outputs": [
    {
     "name": "stdout",
     "output_type": "stream",
     "text": [
      "Time taken: 132.4173140525818\n"
     ]
    }
   ],
   "source": [
    "start = time.time()\n",
    "\n",
    "\n",
    "for epoch in range(num_epochs):\n",
    "    \n",
    "    i=0\n",
    "\n",
    "    for batch in train_dataloader:\n",
    "        i+=1\n",
    "        images, targets = batch\n",
    "        # move images and targets to the device\n",
    "        images = list(image.to(device) for image in images)\n",
    "        targets = [{k: v.to(device) for k, v in t.items()} for t in targets]\n",
    "\n",
    "        # output = model(images,targets)  # Forward pass\n",
    "\n",
    "        if i%10==0:\n",
    "            break\n",
    "\n",
    "\n",
    "print(f\"Time taken: {time.time()-start}\")"
   ]
  },
  {
   "cell_type": "code",
   "execution_count": 4,
   "metadata": {},
   "outputs": [
    {
     "name": "stdout",
     "output_type": "stream",
     "text": [
      "Time taken: 99.11434197425842\n"
     ]
    }
   ],
   "source": [
    "from torchvision import models, datasets, ops\n",
    "model = models.detection.ssdlite320_mobilenet_v3_large(weights=\"DEFAULT\")\n",
    "device = torch.device(\"mps\") # torch.device(\"mps\") if torch.backends.mps.is_available() else \n",
    "model.to(device)\n",
    "\n",
    "model.train() \n",
    "\n",
    "num_epochs = 1  # Number of epochs to train for\n",
    "\n",
    "\n",
    "# time it\n",
    "import time\n",
    "start = time.time()\n",
    "\n",
    "\n",
    "for epoch in range(num_epochs):\n",
    "    \n",
    "    i=0\n",
    "\n",
    "    for batch in train_dataloader:\n",
    "        i+=1\n",
    "        images, targets = batch\n",
    "        # move images and targets to the device\n",
    "        images = list(image.to(device) for image in images)\n",
    "        targets = [{k: v.to(device) for k, v in t.items()} for t in targets]\n",
    "\n",
    "        output = model(images,targets)  # Forward pass\n",
    "\n",
    "        if i%10==0:\n",
    "            break\n",
    "\n",
    "\n",
    "print(f\"Time taken: {time.time()-start}\")"
   ]
  }
 ],
 "metadata": {
  "kernelspec": {
   "display_name": "starfish",
   "language": "python",
   "name": "python3"
  },
  "language_info": {
   "codemirror_mode": {
    "name": "ipython",
    "version": 3
   },
   "file_extension": ".py",
   "mimetype": "text/x-python",
   "name": "python",
   "nbconvert_exporter": "python",
   "pygments_lexer": "ipython3",
   "version": "3.11.11"
  }
 },
 "nbformat": 4,
 "nbformat_minor": 2
}
